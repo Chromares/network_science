{
 "cells": [
  {
   "cell_type": "code",
   "execution_count": 1,
   "metadata": {},
   "outputs": [],
   "source": [
    "import csv\n",
    "import networkx as nx\n",
    "import matplotlib.pyplot as plt\n",
    "import pandas as pd\n",
    "import numpy as np"
   ]
  },
  {
   "cell_type": "markdown",
   "metadata": {},
   "source": [
    "## Data Import"
   ]
  },
  {
   "cell_type": "code",
   "execution_count": 2,
   "metadata": {},
   "outputs": [],
   "source": [
    "df = pd.read_csv('name_name.csv', dtype={\"reps\": np.int64, \"comm\" : str, \"auth\" : str})\n"
   ]
  },
  {
   "cell_type": "code",
   "execution_count": 3,
   "metadata": {},
   "outputs": [
    {
     "data": {
      "text/html": [
       "<div>\n",
       "<style scoped>\n",
       "    .dataframe tbody tr th:only-of-type {\n",
       "        vertical-align: middle;\n",
       "    }\n",
       "\n",
       "    .dataframe tbody tr th {\n",
       "        vertical-align: top;\n",
       "    }\n",
       "\n",
       "    .dataframe thead th {\n",
       "        text-align: right;\n",
       "    }\n",
       "</style>\n",
       "<table border=\"1\" class=\"dataframe\">\n",
       "  <thead>\n",
       "    <tr style=\"text-align: right;\">\n",
       "      <th></th>\n",
       "      <th>reps</th>\n",
       "      <th>auth</th>\n",
       "      <th>comm</th>\n",
       "    </tr>\n",
       "  </thead>\n",
       "  <tbody>\n",
       "    <tr>\n",
       "      <th>0</th>\n",
       "      <td>26</td>\n",
       "      <td>Maria Shaldibina</td>\n",
       "      <td>Stev Witzel</td>\n",
       "    </tr>\n",
       "    <tr>\n",
       "      <th>1</th>\n",
       "      <td>17</td>\n",
       "      <td>Eduardo Valentin</td>\n",
       "      <td>Daniel</td>\n",
       "    </tr>\n",
       "    <tr>\n",
       "      <th>2</th>\n",
       "      <td>24</td>\n",
       "      <td>Eric W. Biederman</td>\n",
       "      <td>geiti94</td>\n",
       "    </tr>\n",
       "    <tr>\n",
       "      <th>3</th>\n",
       "      <td>519</td>\n",
       "      <td>Paul Jakma</td>\n",
       "      <td>Paul Jakma</td>\n",
       "    </tr>\n",
       "    <tr>\n",
       "      <th>4</th>\n",
       "      <td>122</td>\n",
       "      <td>Laxman Dewangan</td>\n",
       "      <td>Stephen Warren</td>\n",
       "    </tr>\n",
       "  </tbody>\n",
       "</table>\n",
       "</div>"
      ],
      "text/plain": [
       "   reps               auth            comm\n",
       "0    26   Maria Shaldibina     Stev Witzel\n",
       "1    17   Eduardo Valentin          Daniel\n",
       "2    24  Eric W. Biederman         geiti94\n",
       "3   519         Paul Jakma      Paul Jakma\n",
       "4   122    Laxman Dewangan  Stephen Warren"
      ]
     },
     "execution_count": 3,
     "metadata": {},
     "output_type": "execute_result"
    }
   ],
   "source": [
    "df.head()"
   ]
  },
  {
   "cell_type": "markdown",
   "metadata": {},
   "source": [
    "## Data Cleaning"
   ]
  },
  {
   "cell_type": "code",
   "execution_count": 4,
   "metadata": {},
   "outputs": [
    {
     "data": {
      "text/plain": [
       "345"
      ]
     },
     "execution_count": 4,
     "metadata": {},
     "output_type": "execute_result"
    }
   ],
   "source": [
    "df.isnull().values.sum()"
   ]
  },
  {
   "cell_type": "code",
   "execution_count": 5,
   "metadata": {},
   "outputs": [
    {
     "data": {
      "text/html": [
       "<div>\n",
       "<style scoped>\n",
       "    .dataframe tbody tr th:only-of-type {\n",
       "        vertical-align: middle;\n",
       "    }\n",
       "\n",
       "    .dataframe tbody tr th {\n",
       "        vertical-align: top;\n",
       "    }\n",
       "\n",
       "    .dataframe thead th {\n",
       "        text-align: right;\n",
       "    }\n",
       "</style>\n",
       "<table border=\"1\" class=\"dataframe\">\n",
       "  <thead>\n",
       "    <tr style=\"text-align: right;\">\n",
       "      <th></th>\n",
       "      <th>reps</th>\n",
       "      <th>auth</th>\n",
       "      <th>comm</th>\n",
       "    </tr>\n",
       "  </thead>\n",
       "  <tbody>\n",
       "    <tr>\n",
       "      <th>2295</th>\n",
       "      <td>225</td>\n",
       "      <td>NaN</td>\n",
       "      <td>root</td>\n",
       "    </tr>\n",
       "    <tr>\n",
       "      <th>5867</th>\n",
       "      <td>24</td>\n",
       "      <td>NaN</td>\n",
       "      <td>mark</td>\n",
       "    </tr>\n",
       "    <tr>\n",
       "      <th>12673</th>\n",
       "      <td>18</td>\n",
       "      <td>NaN</td>\n",
       "      <td>舒志凌</td>\n",
       "    </tr>\n",
       "    <tr>\n",
       "      <th>13649</th>\n",
       "      <td>55</td>\n",
       "      <td>NaN</td>\n",
       "      <td>Jeff Garzik</td>\n",
       "    </tr>\n",
       "    <tr>\n",
       "      <th>18747</th>\n",
       "      <td>21</td>\n",
       "      <td>John Axel Eriksson</td>\n",
       "      <td>NaN</td>\n",
       "    </tr>\n",
       "    <tr>\n",
       "      <th>23358</th>\n",
       "      <td>21</td>\n",
       "      <td>Fish</td>\n",
       "      <td>NaN</td>\n",
       "    </tr>\n",
       "    <tr>\n",
       "      <th>25165</th>\n",
       "      <td>22</td>\n",
       "      <td>NaN</td>\n",
       "      <td>黄志伟</td>\n",
       "    </tr>\n",
       "    <tr>\n",
       "      <th>27935</th>\n",
       "      <td>477</td>\n",
       "      <td>NaN</td>\n",
       "      <td>git-darcs-import</td>\n",
       "    </tr>\n",
       "    <tr>\n",
       "      <th>29367</th>\n",
       "      <td>18</td>\n",
       "      <td>Lars van de Kerkhof</td>\n",
       "      <td>NaN</td>\n",
       "    </tr>\n",
       "    <tr>\n",
       "      <th>29690</th>\n",
       "      <td>27</td>\n",
       "      <td>NaN</td>\n",
       "      <td>Ease</td>\n",
       "    </tr>\n",
       "    <tr>\n",
       "      <th>30927</th>\n",
       "      <td>491</td>\n",
       "      <td>NaN</td>\n",
       "      <td>Zorba Build Bot</td>\n",
       "    </tr>\n",
       "    <tr>\n",
       "      <th>34674</th>\n",
       "      <td>21</td>\n",
       "      <td>Ralf Baechle</td>\n",
       "      <td>NaN</td>\n",
       "    </tr>\n",
       "    <tr>\n",
       "      <th>38869</th>\n",
       "      <td>36</td>\n",
       "      <td>NaN</td>\n",
       "      <td>James Bottomley</td>\n",
       "    </tr>\n",
       "    <tr>\n",
       "      <th>47195</th>\n",
       "      <td>42</td>\n",
       "      <td>Bharat Mediratta</td>\n",
       "      <td>NaN</td>\n",
       "    </tr>\n",
       "    <tr>\n",
       "      <th>47788</th>\n",
       "      <td>17</td>\n",
       "      <td>David Cramer</td>\n",
       "      <td>NaN</td>\n",
       "    </tr>\n",
       "    <tr>\n",
       "      <th>48084</th>\n",
       "      <td>94</td>\n",
       "      <td>NaN</td>\n",
       "      <td>Zsolt Zsuffa</td>\n",
       "    </tr>\n",
       "    <tr>\n",
       "      <th>49892</th>\n",
       "      <td>19</td>\n",
       "      <td>Alessandro Roncone</td>\n",
       "      <td>NaN</td>\n",
       "    </tr>\n",
       "    <tr>\n",
       "      <th>51842</th>\n",
       "      <td>26</td>\n",
       "      <td>NaN</td>\n",
       "      <td>Flavio</td>\n",
       "    </tr>\n",
       "    <tr>\n",
       "      <th>53226</th>\n",
       "      <td>507</td>\n",
       "      <td>NaN</td>\n",
       "      <td>NaN</td>\n",
       "    </tr>\n",
       "    <tr>\n",
       "      <th>54115</th>\n",
       "      <td>48</td>\n",
       "      <td>NaN</td>\n",
       "      <td>Macx</td>\n",
       "    </tr>\n",
       "    <tr>\n",
       "      <th>61682</th>\n",
       "      <td>17</td>\n",
       "      <td>Tim Almdal</td>\n",
       "      <td>NaN</td>\n",
       "    </tr>\n",
       "    <tr>\n",
       "      <th>64176</th>\n",
       "      <td>485</td>\n",
       "      <td>NaN</td>\n",
       "      <td>CloudCannon</td>\n",
       "    </tr>\n",
       "    <tr>\n",
       "      <th>65894</th>\n",
       "      <td>22</td>\n",
       "      <td>Toon Verstraelen</td>\n",
       "      <td>NaN</td>\n",
       "    </tr>\n",
       "    <tr>\n",
       "      <th>76792</th>\n",
       "      <td>21</td>\n",
       "      <td>NaN</td>\n",
       "      <td>李宁</td>\n",
       "    </tr>\n",
       "    <tr>\n",
       "      <th>77816</th>\n",
       "      <td>74</td>\n",
       "      <td>amazonwebservices</td>\n",
       "      <td>NaN</td>\n",
       "    </tr>\n",
       "    <tr>\n",
       "      <th>90434</th>\n",
       "      <td>17</td>\n",
       "      <td>NaN</td>\n",
       "      <td>Paul Aurich</td>\n",
       "    </tr>\n",
       "    <tr>\n",
       "      <th>97820</th>\n",
       "      <td>1</td>\n",
       "      <td>NaN</td>\n",
       "      <td>HenriDellal</td>\n",
       "    </tr>\n",
       "    <tr>\n",
       "      <th>103976</th>\n",
       "      <td>1</td>\n",
       "      <td>NaN</td>\n",
       "      <td>IR4T4</td>\n",
       "    </tr>\n",
       "    <tr>\n",
       "      <th>108113</th>\n",
       "      <td>1</td>\n",
       "      <td>Deji69</td>\n",
       "      <td>NaN</td>\n",
       "    </tr>\n",
       "    <tr>\n",
       "      <th>111735</th>\n",
       "      <td>1</td>\n",
       "      <td>NaN</td>\n",
       "      <td>Luke Schierer</td>\n",
       "    </tr>\n",
       "    <tr>\n",
       "      <th>...</th>\n",
       "      <td>...</td>\n",
       "      <td>...</td>\n",
       "      <td>...</td>\n",
       "    </tr>\n",
       "    <tr>\n",
       "      <th>1466001</th>\n",
       "      <td>6</td>\n",
       "      <td>Alexander Gavrilov</td>\n",
       "      <td>NaN</td>\n",
       "    </tr>\n",
       "    <tr>\n",
       "      <th>1467211</th>\n",
       "      <td>6</td>\n",
       "      <td>NaN</td>\n",
       "      <td>geng</td>\n",
       "    </tr>\n",
       "    <tr>\n",
       "      <th>1479381</th>\n",
       "      <td>6</td>\n",
       "      <td>NaN</td>\n",
       "      <td>Tobias Rundstrom</td>\n",
       "    </tr>\n",
       "    <tr>\n",
       "      <th>1479809</th>\n",
       "      <td>6</td>\n",
       "      <td>gumptionthomas</td>\n",
       "      <td>NaN</td>\n",
       "    </tr>\n",
       "    <tr>\n",
       "      <th>1486616</th>\n",
       "      <td>6</td>\n",
       "      <td>root</td>\n",
       "      <td>NaN</td>\n",
       "    </tr>\n",
       "    <tr>\n",
       "      <th>1487108</th>\n",
       "      <td>6</td>\n",
       "      <td>Matt Zweig</td>\n",
       "      <td>NaN</td>\n",
       "    </tr>\n",
       "    <tr>\n",
       "      <th>1498227</th>\n",
       "      <td>7</td>\n",
       "      <td>Andy Staudacher</td>\n",
       "      <td>NaN</td>\n",
       "    </tr>\n",
       "    <tr>\n",
       "      <th>1499273</th>\n",
       "      <td>7</td>\n",
       "      <td>Jeff Finch</td>\n",
       "      <td>NaN</td>\n",
       "    </tr>\n",
       "    <tr>\n",
       "      <th>1508036</th>\n",
       "      <td>7</td>\n",
       "      <td>NaN</td>\n",
       "      <td>风往北吹_</td>\n",
       "    </tr>\n",
       "    <tr>\n",
       "      <th>1514632</th>\n",
       "      <td>7</td>\n",
       "      <td>NaN</td>\n",
       "      <td>Murthy Narkedimilli</td>\n",
       "    </tr>\n",
       "    <tr>\n",
       "      <th>1515742</th>\n",
       "      <td>7</td>\n",
       "      <td>Andrew Whitworth</td>\n",
       "      <td>NaN</td>\n",
       "    </tr>\n",
       "    <tr>\n",
       "      <th>1530103</th>\n",
       "      <td>8</td>\n",
       "      <td>NaN</td>\n",
       "      <td>唐资富</td>\n",
       "    </tr>\n",
       "    <tr>\n",
       "      <th>1531532</th>\n",
       "      <td>8</td>\n",
       "      <td>babbaj</td>\n",
       "      <td>NaN</td>\n",
       "    </tr>\n",
       "    <tr>\n",
       "      <th>1537327</th>\n",
       "      <td>8</td>\n",
       "      <td>Padillla</td>\n",
       "      <td>NaN</td>\n",
       "    </tr>\n",
       "    <tr>\n",
       "      <th>1545907</th>\n",
       "      <td>9</td>\n",
       "      <td>Bishakh Ghosh</td>\n",
       "      <td>NaN</td>\n",
       "    </tr>\n",
       "    <tr>\n",
       "      <th>1547038</th>\n",
       "      <td>9</td>\n",
       "      <td>Mike Christie</td>\n",
       "      <td>NaN</td>\n",
       "    </tr>\n",
       "    <tr>\n",
       "      <th>1548045</th>\n",
       "      <td>9</td>\n",
       "      <td>Moore, Eric</td>\n",
       "      <td>NaN</td>\n",
       "    </tr>\n",
       "    <tr>\n",
       "      <th>1553713</th>\n",
       "      <td>9</td>\n",
       "      <td>sierra</td>\n",
       "      <td>NaN</td>\n",
       "    </tr>\n",
       "    <tr>\n",
       "      <th>1560096</th>\n",
       "      <td>10</td>\n",
       "      <td>andrew.vasquez@qlogic.com</td>\n",
       "      <td>NaN</td>\n",
       "    </tr>\n",
       "    <tr>\n",
       "      <th>1589270</th>\n",
       "      <td>12</td>\n",
       "      <td>Andrew Dutcher</td>\n",
       "      <td>NaN</td>\n",
       "    </tr>\n",
       "    <tr>\n",
       "      <th>1607642</th>\n",
       "      <td>15</td>\n",
       "      <td>Michael Bayne</td>\n",
       "      <td>NaN</td>\n",
       "    </tr>\n",
       "    <tr>\n",
       "      <th>1610097</th>\n",
       "      <td>15</td>\n",
       "      <td>NaN</td>\n",
       "      <td>Tarmac</td>\n",
       "    </tr>\n",
       "    <tr>\n",
       "      <th>1613815</th>\n",
       "      <td>15</td>\n",
       "      <td>NaN</td>\n",
       "      <td>ChanIan</td>\n",
       "    </tr>\n",
       "    <tr>\n",
       "      <th>1616698</th>\n",
       "      <td>16</td>\n",
       "      <td>J. David Ibanez</td>\n",
       "      <td>NaN</td>\n",
       "    </tr>\n",
       "    <tr>\n",
       "      <th>1618849</th>\n",
       "      <td>16</td>\n",
       "      <td>Damien Lebrun</td>\n",
       "      <td>NaN</td>\n",
       "    </tr>\n",
       "    <tr>\n",
       "      <th>1642867</th>\n",
       "      <td>62</td>\n",
       "      <td>NaN</td>\n",
       "      <td>GitHub</td>\n",
       "    </tr>\n",
       "    <tr>\n",
       "      <th>1706765</th>\n",
       "      <td>79</td>\n",
       "      <td>NaN</td>\n",
       "      <td>GitHub</td>\n",
       "    </tr>\n",
       "    <tr>\n",
       "      <th>1739879</th>\n",
       "      <td>1</td>\n",
       "      <td>NaN</td>\n",
       "      <td>GitHub</td>\n",
       "    </tr>\n",
       "    <tr>\n",
       "      <th>1894007</th>\n",
       "      <td>2</td>\n",
       "      <td>NaN</td>\n",
       "      <td>GitHub</td>\n",
       "    </tr>\n",
       "    <tr>\n",
       "      <th>2146176</th>\n",
       "      <td>9</td>\n",
       "      <td>NaN</td>\n",
       "      <td>GitHub</td>\n",
       "    </tr>\n",
       "  </tbody>\n",
       "</table>\n",
       "<p>344 rows × 3 columns</p>\n",
       "</div>"
      ],
      "text/plain": [
       "         reps                       auth                 comm\n",
       "2295      225                        NaN                 root\n",
       "5867       24                        NaN                 mark\n",
       "12673      18                        NaN                  舒志凌\n",
       "13649      55                        NaN          Jeff Garzik\n",
       "18747      21         John Axel Eriksson                  NaN\n",
       "23358      21                       Fish                  NaN\n",
       "25165      22                        NaN                  黄志伟\n",
       "27935     477                        NaN     git-darcs-import\n",
       "29367      18        Lars van de Kerkhof                  NaN\n",
       "29690      27                        NaN                 Ease\n",
       "30927     491                        NaN      Zorba Build Bot\n",
       "34674      21               Ralf Baechle                  NaN\n",
       "38869      36                        NaN      James Bottomley\n",
       "47195      42           Bharat Mediratta                  NaN\n",
       "47788      17               David Cramer                  NaN\n",
       "48084      94                        NaN         Zsolt Zsuffa\n",
       "49892      19         Alessandro Roncone                  NaN\n",
       "51842      26                        NaN               Flavio\n",
       "53226     507                        NaN                  NaN\n",
       "54115      48                        NaN                 Macx\n",
       "61682      17                 Tim Almdal                  NaN\n",
       "64176     485                        NaN          CloudCannon\n",
       "65894      22           Toon Verstraelen                  NaN\n",
       "76792      21                        NaN                   李宁\n",
       "77816      74          amazonwebservices                  NaN\n",
       "90434      17                        NaN          Paul Aurich\n",
       "97820       1                        NaN          HenriDellal\n",
       "103976      1                        NaN                IR4T4\n",
       "108113      1                     Deji69                  NaN\n",
       "111735      1                        NaN        Luke Schierer\n",
       "...       ...                        ...                  ...\n",
       "1466001     6         Alexander Gavrilov                  NaN\n",
       "1467211     6                        NaN                 geng\n",
       "1479381     6                        NaN     Tobias Rundstrom\n",
       "1479809     6             gumptionthomas                  NaN\n",
       "1486616     6                       root                  NaN\n",
       "1487108     6                 Matt Zweig                  NaN\n",
       "1498227     7            Andy Staudacher                  NaN\n",
       "1499273     7                 Jeff Finch                  NaN\n",
       "1508036     7                        NaN                风往北吹_\n",
       "1514632     7                        NaN  Murthy Narkedimilli\n",
       "1515742     7           Andrew Whitworth                  NaN\n",
       "1530103     8                        NaN                  唐资富\n",
       "1531532     8                     babbaj                  NaN\n",
       "1537327     8                   Padillla                  NaN\n",
       "1545907     9              Bishakh Ghosh                  NaN\n",
       "1547038     9              Mike Christie                  NaN\n",
       "1548045     9                Moore, Eric                  NaN\n",
       "1553713     9                     sierra                  NaN\n",
       "1560096    10  andrew.vasquez@qlogic.com                  NaN\n",
       "1589270    12             Andrew Dutcher                  NaN\n",
       "1607642    15              Michael Bayne                  NaN\n",
       "1610097    15                        NaN               Tarmac\n",
       "1613815    15                        NaN              ChanIan\n",
       "1616698    16            J. David Ibanez                  NaN\n",
       "1618849    16              Damien Lebrun                  NaN\n",
       "1642867    62                        NaN               GitHub\n",
       "1706765    79                        NaN               GitHub\n",
       "1739879     1                        NaN               GitHub\n",
       "1894007     2                        NaN               GitHub\n",
       "2146176     9                        NaN               GitHub\n",
       "\n",
       "[344 rows x 3 columns]"
      ]
     },
     "execution_count": 5,
     "metadata": {},
     "output_type": "execute_result"
    }
   ],
   "source": [
    "nan_rows = df[df.isnull().any(1)]\n",
    "nan_rows"
   ]
  },
  {
   "cell_type": "code",
   "execution_count": 6,
   "metadata": {},
   "outputs": [
    {
     "data": {
      "text/plain": [
       "0"
      ]
     },
     "execution_count": 6,
     "metadata": {},
     "output_type": "execute_result"
    }
   ],
   "source": [
    "df = df.dropna()\n",
    "df.isnull().values.sum()"
   ]
  },
  {
   "cell_type": "markdown",
   "metadata": {},
   "source": [
    "## Sample Graph"
   ]
  },
  {
   "cell_type": "code",
   "execution_count": 7,
   "metadata": {},
   "outputs": [],
   "source": [
    "#dfn = df.sample(1000)\n",
    "#del df"
   ]
  },
  {
   "cell_type": "code",
   "execution_count": 8,
   "metadata": {},
   "outputs": [],
   "source": [
    "#G = nx.DiGraph(directed=True)\n",
    "#G.add_edge(1, 3, weight=8)\n",
    "#G.add_edge(3, 1, weight=1)\n",
    "#G.add_edge(3, 4, weight=6)\n",
    "#G.add_edge(1, 2, weight=1)\n",
    "#G.add_edge(2, 4, weight=3)\n",
    "\n",
    "#pos=nx.spring_layout(G) \n",
    "#nx.draw(G,pos)\n",
    "#labels = nx.get_edge_attributes(G,'weight')\n",
    "#nx.draw_networkx_edge_labels(G,pos,edge_labels=labels)"
   ]
  },
  {
   "cell_type": "code",
   "execution_count": 9,
   "metadata": {},
   "outputs": [],
   "source": [
    "graph = nx.from_pandas_edgelist(df, source = 'comm', target = 'auth', edge_attr = 'reps',create_using = nx.DiGraph())"
   ]
  },
  {
   "cell_type": "code",
   "execution_count": 11,
   "metadata": {},
   "outputs": [],
   "source": [
    "#del dfn"
   ]
  },
  {
   "cell_type": "markdown",
   "metadata": {},
   "source": [
    "pos=nx.spring_layout(graph) \n",
    "nx.draw(graph,pos)\n",
    "labels = nx.get_edge_attributes(graph,'weight')\n",
    "nx.draw_networkx_edge_labels(graph,pos,edge_labels=labels)"
   ]
  },
  {
   "cell_type": "markdown",
   "metadata": {},
   "source": [
    "## Centrality"
   ]
  },
  {
   "cell_type": "code",
   "execution_count": null,
   "metadata": {},
   "outputs": [
    {
     "name": "stdout",
     "output_type": "stream",
     "text": [
      "Betweenness\n"
     ]
    }
   ],
   "source": [
    "print(\"Betweenness\")\n",
    "b = nx.betweenness_centrality(graph)\n",
    "\n",
    "print(\"Degree centrality\")\n",
    "d = nx.degree_centrality(graph)\n",
    "\n",
    "print(\"Closeness centrality\")\n",
    "c = nx.closeness_centrality(graph)\n",
    "\n",
    "print(\"Eigenvector centrality\")\n",
    "pg = nx.pagerank(graph, alpha=0.85, personalization=None, max_iter=100, tol=1e-06, nstart=None, weight='reps', dangling=None)\n",
    "\n",
    "print(\"HITS)\"\n",
    "hub, auths = nx.hits(graph, max_iter=100, tol=1e-08, nstart=None, normalized=True)\n",
    "\n",
    "print(\"Diameter\")\n",
    "largest = max(nx.connected_components(graph.to_undirected()), key=len)\n",
    "g = graph.to_undirected()\n",
    "removal = set(g.nodes) - largest\n",
    "g.remove_nodes_from(removal)\n",
    "dia = nx.diameter(g)\n",
    "\n",
    "print(\"Clustering\")\n",
    "avg_clust = nx.average_clustering(g, weight = 'weight')\n",
    "clustering = dict(nx.clustering(g))\n"
   ]
  },
  {
   "cell_type": "markdown",
   "metadata": {},
   "source": [
    "## Top X in each Centrality"
   ]
  },
  {
   "cell_type": "code",
   "execution_count": null,
   "metadata": {},
   "outputs": [],
   "source": [
    "x = 5\n",
    "from heapq import nlargest\n",
    "sb = nlargest(x, b, key=b.get)\n",
    "sc = nlargest(x, c, key=c.get)\n",
    "sd = nlargest(x, d, key=d.get)\n",
    "spg = nlargest(x, pg, key=pg.get)\n",
    "shubs = nlargest(x, hub, key=hub.get)\n",
    "sauths = nlargest(x, auths, key=auths.get)"
   ]
  },
  {
   "cell_type": "code",
   "execution_count": null,
   "metadata": {},
   "outputs": [],
   "source": [
    "print(\"Betweenness\", sb)\n",
    "print(\"Closeness\", sc)\n",
    "print(\"Degree\", sd)\n",
    "print(\"Eigen\", spg)\n",
    "print(\"Hubs\", shubs)\n",
    "print(\"Authorities\", sauths)\n",
    "print(\"Diameter of largest component\", dia)\n",
    "print(\"Average clustering coefficient \", avg_clust)\n",
    "print(\"Clustering coefficient values :\")\n",
    "#print(clustering)"
   ]
  },
  {
   "cell_type": "markdown",
   "metadata": {},
   "source": [
    "## Distribution"
   ]
  },
  {
   "cell_type": "code",
   "execution_count": null,
   "metadata": {},
   "outputs": [],
   "source": [
    "din = dict(graph.in_degree())\n",
    "dout = dict(graph.out_degree())\n",
    "#for item in sorted(d, key=d.get, reverse=True):\n",
    "#    print (item, d[item])\n",
    "#USE b, c, d"
   ]
  },
  {
   "cell_type": "code",
   "execution_count": null,
   "metadata": {},
   "outputs": [],
   "source": [
    "from collections import defaultdict\n",
    "#din\n",
    "counter_indegree = defaultdict(int)\n",
    "for k, v in din.items():\n",
    "    counter_indegree[v]+=1\n",
    "    \n",
    "#dout\n",
    "counter_outdegree = defaultdict(int)\n",
    "for k, v in dout.items():\n",
    "    counter_outdegree[v]+=1\n",
    "    \n",
    "#b\n",
    "counter_b = defaultdict(int)\n",
    "for k, v in b.items():\n",
    "    counter_b[v]+=1\n",
    "    \n",
    "#c\n",
    "counter_c = defaultdict(int)\n",
    "for k, v in c.items():\n",
    "    counter_c[v]+=1\n",
    "\n",
    "#d\n",
    "counter_d = defaultdict(int)\n",
    "for k, v in d.items():\n",
    "    counter_d[v]+=1\n",
    "    \n",
    "#pg\n",
    "counter_pg = defaultdict(int)\n",
    "for k, v in pg.items():\n",
    "    counter_pg[v]+=1\n",
    "    \n",
    "#hubs and auths\n",
    "\n",
    "counter_hubs = defaultdict(int)\n",
    "for k, v in hub.items():\n",
    "    counter_hubs[v]+=1\n",
    "    \n",
    "counter_auths = defaultdict(int)\n",
    "for k, v in auths.items():\n",
    "    counter_auths[v]+=1"
   ]
  },
  {
   "cell_type": "code",
   "execution_count": null,
   "metadata": {},
   "outputs": [],
   "source": [
    "counter_outdegree"
   ]
  },
  {
   "cell_type": "code",
   "execution_count": null,
   "metadata": {},
   "outputs": [],
   "source": [
    "#del counter_outdegree[283]"
   ]
  },
  {
   "cell_type": "markdown",
   "metadata": {},
   "source": [
    "### In Degree"
   ]
  },
  {
   "cell_type": "code",
   "execution_count": 19,
   "metadata": {},
   "outputs": [
    {
     "data": {
      "image/png": "[encoded data removed]",
      "text/plain": [
       "<Figure size 1440x720 with 1 Axes>"
      ]
     },
     "metadata": {
      "needs_background": "light"
     },
     "output_type": "display_data"
    }
   ],
   "source": [
    "#plt.bar(counter_indegree.keys(), counter_indegree.values(), 0.05)\n",
    "lists = sorted(counter_indegree.items()) # sorted by key, return a list of tuples\n",
    "x, y = zip(*lists) # unpack a list of pairs into two tuples\n",
    "plt.figure(figsize=(20,10))\n",
    "plt.plot(x, y)\n",
    "plt.savefig('dist_in_degree.png', bbox_inches='tight')\n",
    "plt.show()\n"
   ]
  },
  {
   "cell_type": "markdown",
   "metadata": {},
   "source": [
    "### Out Degree"
   ]
  },
  {
   "cell_type": "code",
   "execution_count": 20,
   "metadata": {},
   "outputs": [
    {
     "data": {
      "image/png": "[encoded data removed]",
      "text/plain": [
       "<Figure size 1440x720 with 1 Axes>"
      ]
     },
     "metadata": {
      "needs_background": "light"
     },
     "output_type": "display_data"
    }
   ],
   "source": [
    "#plt.bar(counter_outdegree.keys(), counter_outdegree.values(), 0.5)\n",
    "lists = sorted(counter_outdegree.items()) # sorted by key, return a list of tuples\n",
    "x, y = zip(*lists) # unpack a list of pairs into two tuples\n",
    "plt.figure(figsize=(20,10))\n",
    "plt.plot(x, y)\n",
    "plt.savefig('dist_out_degree.png', bbox_inches='tight')\n",
    "plt.show()"
   ]
  },
  {
   "cell_type": "markdown",
   "metadata": {},
   "source": [
    "### Undirected Degree"
   ]
  },
  {
   "cell_type": "code",
   "execution_count": 21,
   "metadata": {},
   "outputs": [
    {
     "data": {
      "image/png": "[encoded data removed]",
      "text/plain": [
       "<Figure size 1440x720 with 1 Axes>"
      ]
     },
     "metadata": {
      "needs_background": "light"
     },
     "output_type": "display_data"
    }
   ],
   "source": [
    "## HITS, SAVE IMAGES\n",
    "G2 = graph.to_undirected()\n",
    "ddegree = dict(G2.degree())\n",
    "counter_ddegree = defaultdict(int)\n",
    "for k, v in ddegree.items():\n",
    "    counter_ddegree[v]+=1\n",
    "\n",
    "lists = sorted(counter_ddegree.items()) # sorted by key, return a list of tuples\n",
    "x, y = zip(*lists) # unpack a list of pairs into two tuples\n",
    "plt.figure(figsize=(20,10))\n",
    "plt.plot(x, y)\n",
    "plt.savefig('dist_und_degree.png', bbox_inches='tight')\n",
    "plt.show()\n",
    "\n",
    "del G2"
   ]
  },
  {
   "cell_type": "code",
   "execution_count": 22,
   "metadata": {},
   "outputs": [
    {
     "data": {
      "text/plain": [
       "False"
      ]
     },
     "execution_count": 22,
     "metadata": {},
     "output_type": "execute_result"
    }
   ],
   "source": [
    "counter_ddegree == counter_outdegree"
   ]
  },
  {
   "cell_type": "markdown",
   "metadata": {},
   "source": [
    "### Betweeness Centrality"
   ]
  },
  {
   "cell_type": "code",
   "execution_count": 23,
   "metadata": {},
   "outputs": [
    {
     "data": {
      "image/png": "[encoded data removed]",
      "text/plain": [
       "<Figure size 1440x720 with 1 Axes>"
      ]
     },
     "metadata": {
      "needs_background": "light"
     },
     "output_type": "display_data"
    }
   ],
   "source": [
    "#plt.bar(counter_b.keys(), counter_b.values(), 0.05)\n",
    "lists = sorted(counter_b.items()) # sorted by key, return a list of tuples\n",
    "x, y = zip(*lists) # unpack a list of pairs into two tuples\n",
    "plt.figure(figsize=(20,10))\n",
    "plt.plot(x, y)\n",
    "plt.savefig('dist_centrality_betweeness.png', bbox_inches='tight')\n",
    "plt.show()"
   ]
  },
  {
   "cell_type": "markdown",
   "metadata": {},
   "source": [
    "### Degree Centrality"
   ]
  },
  {
   "cell_type": "code",
   "execution_count": 24,
   "metadata": {},
   "outputs": [
    {
     "data": {
      "image/png": "[encoded data removed]",
      "text/plain": [
       "<Figure size 1440x720 with 1 Axes>"
      ]
     },
     "metadata": {
      "needs_background": "light"
     },
     "output_type": "display_data"
    }
   ],
   "source": [
    "#plt.bar(counter_d.keys(), counter_d.values(), 0.05)\n",
    "lists = sorted(counter_d.items()) # sorted by key, return a list of tuples\n",
    "x, y = zip(*lists) # unpack a list of pairs into two tuples\n",
    "plt.figure(figsize=(20,10))\n",
    "plt.savefig('dist_centrality_degree.png', bbox_inches='tight')\n",
    "plt.plot(x, y)\n",
    "plt.show()"
   ]
  },
  {
   "cell_type": "markdown",
   "metadata": {},
   "source": [
    "### Closeness Centrality"
   ]
  },
  {
   "cell_type": "code",
   "execution_count": 25,
   "metadata": {},
   "outputs": [
    {
     "data": {
      "image/png": "[encoded data removed]",
      "text/plain": [
       "<Figure size 1440x720 with 1 Axes>"
      ]
     },
     "metadata": {
      "needs_background": "light"
     },
     "output_type": "display_data"
    }
   ],
   "source": [
    "#plt.bar(counter_c.keys(), counter_c.values(), 0.05)\n",
    "lists = sorted(counter_c.items()) # sorted by key, return a list of tuples\n",
    "x, y = zip(*lists) # unpack a list of pairs into two tuples\n",
    "plt.figure(figsize=(20,10))\n",
    "plt.savefig('dist_centrality_closeness.png', bbox_inches='tight')\n",
    "plt.plot(x, y)\n",
    "plt.show()"
   ]
  },
  {
   "cell_type": "markdown",
   "metadata": {},
   "source": [
    "### Eigen-vector (Page Rank) Centrality"
   ]
  },
  {
   "cell_type": "code",
   "execution_count": 26,
   "metadata": {},
   "outputs": [
    {
     "data": {
      "image/png": "[encoded data removed]",
      "text/plain": [
       "<Figure size 1440x720 with 1 Axes>"
      ]
     },
     "metadata": {
      "needs_background": "light"
     },
     "output_type": "display_data"
    }
   ],
   "source": [
    "lists = sorted(counter_pg.items()) # sorted by key, return a list of tuples\n",
    "x, y = zip(*lists) # unpack a list of pairs into two tuples\n",
    "plt.figure(figsize=(20,10))\n",
    "plt.savefig('dist_centrality_pagerank.png', bbox_inches='tight')\n",
    "plt.plot(x, y)\n",
    "plt.show()"
   ]
  },
  {
   "cell_type": "markdown",
   "metadata": {},
   "source": [
    "### Hubs and Authorities values"
   ]
  },
  {
   "cell_type": "code",
   "execution_count": 27,
   "metadata": {},
   "outputs": [
    {
     "data": {
      "image/png": "[encoded data removed]",
      "text/plain": [
       "<Figure size 1440x720 with 1 Axes>"
      ]
     },
     "metadata": {
      "needs_background": "light"
     },
     "output_type": "display_data"
    }
   ],
   "source": [
    "lists = sorted(counter_hubs.items()) # sorted by key, return a list of tuples\n",
    "x, y = zip(*lists) # unpack a list of pairs into two tuples\n",
    "plt.figure(figsize=(20,10))\n",
    "plt.savefig('dist_centrality_hubs.png', bbox_inches='tight')\n",
    "plt.plot(x, y)\n",
    "plt.show()"
   ]
  },
  {
   "cell_type": "code",
   "execution_count": 28,
   "metadata": {},
   "outputs": [
    {
     "data": {
      "text/plain": [
       "((0.0,\n",
       "  2.057275424206304e-17,\n",
       "  2.6333125429840692e-15,\n",
       "  1.2549380087658455e-14,\n",
       "  2.0305308436916223e-14,\n",
       "  4.4992613527391875e-14,\n",
       "  1.6361511448712746e-13,\n",
       "  2.23502402085773e-13,\n",
       "  4.53808213999396e-12,\n",
       "  2.355893066580698e-11,\n",
       "  0.9999999999708666),\n",
       " (953, 631, 55, 3, 3, 4, 1, 2, 1, 1, 1))"
      ]
     },
     "execution_count": 28,
     "metadata": {},
     "output_type": "execute_result"
    }
   ],
   "source": [
    "x, y"
   ]
  },
  {
   "cell_type": "code",
   "execution_count": 29,
   "metadata": {},
   "outputs": [
    {
     "data": {
      "image/png": "[encoded data removed]",
      "text/plain": [
       "<Figure size 1440x720 with 1 Axes>"
      ]
     },
     "metadata": {
      "needs_background": "light"
     },
     "output_type": "display_data"
    }
   ],
   "source": [
    "lists = sorted(counter_auths.items()) # sorted by key, return a list of tuples\n",
    "x, y = zip(*lists) # unpack a list of pairs into two tuples\n",
    "plt.figure(figsize=(20,10))\n",
    "plt.savefig('dist_centrality_auths.png', bbox_inches='tight')\n",
    "plt.plot(x, y)\n",
    "plt.show()"
   ]
  },
  {
   "cell_type": "code",
   "execution_count": 30,
   "metadata": {},
   "outputs": [
    {
     "data": {
      "text/plain": [
       "defaultdict(int,\n",
       "            {0.0: 670,\n",
       "             2.0572754242151403e-17: 631,\n",
       "             0.00413223140485604: 242,\n",
       "             1.3166562714976898e-15: 74,\n",
       "             3.906724885076068e-12: 1,\n",
       "             6.313572549373844e-13: 1,\n",
       "             2.6333125429953795e-15: 9,\n",
       "             1.2549380087712356e-14: 3,\n",
       "             1.4997537842528372e-14: 12,\n",
       "             3.2753676301386833e-12: 6,\n",
       "             7.755928349291078e-15: 3,\n",
       "             1.636151144878302e-13: 1,\n",
       "             5.988728759890276e-14: 2})"
      ]
     },
     "execution_count": 30,
     "metadata": {},
     "output_type": "execute_result"
    }
   ],
   "source": [
    "counter_auths"
   ]
  },
  {
   "cell_type": "code",
   "execution_count": null,
   "metadata": {},
   "outputs": [],
   "source": []
  },
  {
   "cell_type": "code",
   "execution_count": null,
   "metadata": {},
   "outputs": [],
   "source": []
  }
 ],
 "metadata": {
  "kernelspec": {
   "display_name": "Python 3",
   "language": "python",
   "name": "python3"
  },
  "language_info": {
   "codemirror_mode": {
    "name": "ipython",
    "version": 3
   },
   "file_extension": ".py",
   "mimetype": "text/x-python",
   "name": "python",
   "nbconvert_exporter": "python",
   "pygments_lexer": "ipython3",
   "version": "3.6.5"
  }
 },
 "nbformat": 4,
 "nbformat_minor": 2
}
